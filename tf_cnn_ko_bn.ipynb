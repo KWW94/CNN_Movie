{
 "cells": [
  {
   "cell_type": "code",
   "execution_count": 1,
   "metadata": {
    "collapsed": false
   },
   "outputs": [
    {
     "name": "stdout",
     "output_type": "stream",
     "text": [
      "\n",
      "Parameters:\n",
      "ALLOW_SOFT_PLACEMENT=True\n",
      "BATCH_SIZE=4\n",
      "CHECKPOINT_EVERY=100\n",
      "DEV_SAMPLE_PERCENTAGE=0.05\n",
      "DROPOUT_KEEP_PROB=0.7\n",
      "EMBEDDING_DIM=200\n",
      "EVALUATE_EVERY=100\n",
      "FILTER_SIZES=3,4,5\n",
      "L2_REG_LAMBDA=0.01\n",
      "LOG_DEVICE_PLACEMENT=False\n",
      "NEGATIVE_DATA_FILE=./data/rt-polaritydata/rt-polarity.neg\n",
      "NUM_CHECKPOINTS=5\n",
      "NUM_EPOCHS=200\n",
      "NUM_FILTERS=100\n",
      "POSITIVE_DATA_FILE=./data/rt-polaritydata/rt-polarity.pos\n",
      "UNROLLED_LSTM=False\n",
      "\n"
     ]
    }
   ],
   "source": [
    "#! /usr/bin/env python\n",
    "import tensorflow as tf\n",
    "import numpy as np\n",
    "import os\n",
    "import time\n",
    "import datetime\n",
    "import data_helpers\n",
    "from text_cnn_bn import TextCNN\n",
    "from tensorflow.contrib import learn\n",
    "import sys\n",
    "#sys.setdefaultencoding('utf-8') \n",
    "# Parameters\n",
    "# ==================================================\n",
    "\n",
    "# Data loading params\n",
    "tf.flags.DEFINE_float(\"dev_sample_percentage\", .05, \"Percentage of the training data to use for validation\")\n",
    "tf.flags.DEFINE_string(\"positive_data_file\", \"./data/rt-polaritydata/rt-polarity.pos\", \"Data source for the positive data.\")\n",
    "tf.flags.DEFINE_string(\"negative_data_file\", \"./data/rt-polaritydata/rt-polarity.neg\", \"Data source for the negative data.\")\n",
    "\n",
    "# Model Hyperparameters\n",
    "tf.flags.DEFINE_integer(\"embedding_dim\", 200, \"Dimensionality of character embedding (default: 128)\")\n",
    "tf.flags.DEFINE_string(\"filter_sizes\", \"3,4,5\", \"Comma-separated filter sizes (default: '3,4,5')\")\n",
    "tf.flags.DEFINE_integer(\"num_filters\", 100, \"Number of filters per filter size (default: 128)\")#featuremap\n",
    "tf.flags.DEFINE_float(\"dropout_keep_prob\", 0.7, \"Dropout keep probability (default: 0.5)\")\n",
    "tf.flags.DEFINE_float(\"l2_reg_lambda\", 0.01, \"L2 regularization lambda (default: 0.0)\")\n",
    "\n",
    "# Training parameters\n",
    "tf.flags.DEFINE_integer(\"batch_size\", 4, \"Batch Size (default: 64)\")\n",
    "tf.flags.DEFINE_integer(\"num_epochs\", 200, \"Number of training epochs (default: 200)\")\n",
    "tf.flags.DEFINE_integer(\"evaluate_every\", 100, \"Evaluate model on dev set after this many steps (default: 100)\")\n",
    "tf.flags.DEFINE_integer(\"checkpoint_every\", 100, \"Save model after this many steps (default: 100)\")\n",
    "tf.flags.DEFINE_integer(\"num_checkpoints\", 5, \"Number of checkpoints to store (default: 5)\")\n",
    "# Misc Parameters\n",
    "tf.flags.DEFINE_boolean(\"allow_soft_placement\", True, \"Allow device soft device placement\")\n",
    "tf.flags.DEFINE_boolean(\"log_device_placement\", False, \"Log placement of ops on devices\")\n",
    "FLAGS = tf.flags.FLAGS\n",
    "FLAGS._parse_flags()\n",
    "print(\"\\nParameters:\")\n",
    "for attr, value in sorted(FLAGS.__flags.items()):\n",
    "    print(\"{}={}\".format(attr.upper(), value))\n",
    "print(\"\")\n"
   ]
  },
  {
   "cell_type": "code",
   "execution_count": 4,
   "metadata": {
    "collapsed": false
   },
   "outputs": [
    {
     "data": {
      "text/plain": [
       "'\\ndef read_data_pos_data(filename):\\n    with open(filename, \\'r\\',encoding =\"utf-8\") as f:\\n        data = [line.split(\\'\\t\\') for line in f.read().splitlines()]\\n    return data\\n\\ntrain_data=read_data_pos_data(\\'./train1.txt\\')\\ntest_data=read_data_pos_data(\\'./test1.txt\\')\\n\\ndef y_trans(data):\\n    for i in range(len(data)):\\n        if data[i][-1]==\\'0\\':\\n            data[i][-1]=[0,1]\\n        else :\\n            data[i][-1]=[1,0]\\n    return data\\n\\ntrain_data=y_trans(train_data)\\ntest_data=y_trans(test_data)\\n\\ndef word2sentece(data):\\n    temp=[]\\n    for i in range(len(data)):\\n        temp.append(\\' \\'.join(data[i][:-1]))\\n\\n    return temp\\ndef ylist2y(data):\\n    temp=[]\\n    for i in range(len(data)):\\n        temp.append(data[i][-1])\\n    return temp\\n\\ntrain_data_x = word2sentece(train_data)\\ntrain_data_y = ylist2y(train_data)\\n'"
      ]
     },
     "execution_count": 4,
     "metadata": {},
     "output_type": "execute_result"
    }
   ],
   "source": [
    "# Data Preparation\n",
    "# ==================================================\n",
    "\n",
    "# Load data\n",
    "'''\n",
    "def read_data_pos_data(filename):\n",
    "    with open(filename, 'r',encoding =\"utf-8\") as f:\n",
    "        data = [line.split('\\t') for line in f.read().splitlines()]\n",
    "    return data\n",
    "\n",
    "train_data=read_data_pos_data('./train1.txt')\n",
    "test_data=read_data_pos_data('./test1.txt')\n",
    "\n",
    "def y_trans(data):\n",
    "    for i in range(len(data)):\n",
    "        if data[i][-1]=='0':\n",
    "            data[i][-1]=[0,1]\n",
    "        else :\n",
    "            data[i][-1]=[1,0]\n",
    "    return data\n",
    "\n",
    "train_data=y_trans(train_data)\n",
    "test_data=y_trans(test_data)\n",
    "\n",
    "def word2sentece(data):\n",
    "    temp=[]\n",
    "    for i in range(len(data)):\n",
    "        temp.append(' '.join(data[i][:-1]))\n",
    "\n",
    "    return temp\n",
    "def ylist2y(data):\n",
    "    temp=[]\n",
    "    for i in range(len(data)):\n",
    "        temp.append(data[i][-1])\n",
    "    return temp\n",
    "\n",
    "train_data_x = word2sentece(train_data)\n",
    "train_data_y = ylist2y(train_data)\n",
    "'''"
   ]
  },
  {
   "cell_type": "code",
   "execution_count": 5,
   "metadata": {
    "collapsed": false
   },
   "outputs": [
    {
     "data": {
      "text/plain": [
       "'\\nmax_document_length = max([len(x.split(\" \")) for x in train_data_x])\\nvocab_processor = learn.preprocessing.VocabularyProcessor(max_document_length)\\nx1 = np.array(list(vocab_processor.fit_transform(train_data_x)))\\ny1 = np.array(train_data_y)\\n'"
      ]
     },
     "execution_count": 5,
     "metadata": {},
     "output_type": "execute_result"
    }
   ],
   "source": [
    "'''\n",
    "max_document_length = max([len(x.split(\" \")) for x in train_data_x])\n",
    "vocab_processor = learn.preprocessing.VocabularyProcessor(max_document_length)\n",
    "x1 = np.array(list(vocab_processor.fit_transform(train_data_x)))\n",
    "y1 = np.array(train_data_y)\n",
    "'''"
   ]
  },
  {
   "cell_type": "code",
   "execution_count": 6,
   "metadata": {
    "collapsed": false
   },
   "outputs": [],
   "source": [
    "#x1[:3],y1[:3]"
   ]
  },
  {
   "cell_type": "code",
   "execution_count": 43,
   "metadata": {
    "collapsed": false
   },
   "outputs": [],
   "source": [
    "w2v = np.load('i2w.npz')#gensim 55823\n",
    "word2vec_vocab=list(w2v['word'])\n",
    "word2index=dict([(w,i) for i,w in enumerate(word2vec_vocab)])\n",
    "\n",
    "def read_data_pos_data(filename):\n",
    "    with open(filename, 'r',encoding =\"utf-8\") as f:\n",
    "        data = [line.split('\\t') for line in f.read().splitlines()]\n",
    "    return data\n",
    "def y_trans(data):#1,0 좋다\n",
    "    for i in range(len(data)):\n",
    "        if data[i][-1]=='0':\n",
    "            data[i][-1]=[0,1]\n",
    "        else :\n",
    "            data[i][-1]=[1,0]\n",
    "    return data\n",
    "train_data=read_data_pos_data('./ratings.txt')\n",
    "train_data=y_trans(train_data)\n",
    "\n",
    "def x_y_slice(data):\n",
    "    temp=[]\n",
    "    for i in range(len(data)):\n",
    "        temp.append(data[i][:-1])\n",
    "    return temp\n",
    "def ylist2y(data):\n",
    "    temp=[]\n",
    "    for i in range(len(data)):\n",
    "        temp.append(data[i][-1])\n",
    "    return temp\n",
    "train_data_y = ylist2y(train_data)\n",
    "train_data_x=x_y_slice(train_data)\n",
    "train_data_x[0][0]='어리다Verb'"
   ]
  },
  {
   "cell_type": "code",
   "execution_count": 44,
   "metadata": {
    "collapsed": true
   },
   "outputs": [],
   "source": [
    "error=[]\n",
    "def one_hot_encoding(Matrix,data):\n",
    "    for i,sentence in enumerate(data):\n",
    "        for j,word in enumerate(sentence):\n",
    "            try:\n",
    "                Matrix[i][j]=word2index[word]\n",
    "            except KeyError:\n",
    "                error.append([sentence])\n",
    "                pass\n",
    "    return Matrix\n",
    "\n",
    "def Matrix_make(maxlength,num_data):\n",
    "    a=np.array([0]*maxlength)\n",
    "    b=[]\n",
    "    for i in range(num_data):\n",
    "        b.append(a)\n",
    "    return np.array(b)\n",
    "\n",
    "max_document_length = max([len(x) for x in train_data_x])\n",
    "\n",
    "m=Matrix_make(max_document_length,len(train_data_x))\n",
    "\n",
    "train_data_x_one_hot=one_hot_encoding(m,train_data_x)"
   ]
  },
  {
   "cell_type": "code",
   "execution_count": 45,
   "metadata": {
    "collapsed": false
   },
   "outputs": [],
   "source": [
    "x=np.array(train_data_x_one_hot,dtype='int32')\n",
    "y=np.array(train_data_y)"
   ]
  },
  {
   "cell_type": "code",
   "execution_count": 46,
   "metadata": {
    "collapsed": false
   },
   "outputs": [],
   "source": [
    "np.random.seed(10)\n",
    "shuffle_indices = np.random.permutation(np.arange(len(y)))\n",
    "x_shuffled = x[shuffle_indices]\n",
    "y_shuffled = y[shuffle_indices]"
   ]
  },
  {
   "cell_type": "code",
   "execution_count": 47,
   "metadata": {
    "collapsed": false
   },
   "outputs": [
    {
     "name": "stdout",
     "output_type": "stream",
     "text": [
      "Vocabulary Size: 55823\n",
      "Train/Dev split: 190000/10000\n"
     ]
    }
   ],
   "source": [
    "dev_sample_index = -1 * int(FLAGS.dev_sample_percentage * float(len(y)))\n",
    "x_train, x_dev = x_shuffled[:dev_sample_index], x_shuffled[dev_sample_index:]\n",
    "y_train, y_dev = y_shuffled[:dev_sample_index], y_shuffled[dev_sample_index:]\n",
    "print(\"Vocabulary Size: {:d}\".format(len(word2vec_vocab)))\n",
    "print(\"Train/Dev split: {:d}/{:d}\".format(len(y_train), len(y_dev)))"
   ]
  },
  {
   "cell_type": "code",
   "execution_count": 48,
   "metadata": {
    "collapsed": false
   },
   "outputs": [
    {
     "data": {
      "text/plain": [
       "(95, 2)"
      ]
     },
     "execution_count": 48,
     "metadata": {},
     "output_type": "execute_result"
    }
   ],
   "source": [
    "x_train.shape[1],y_train.shape[1]"
   ]
  },
  {
   "cell_type": "code",
   "execution_count": 49,
   "metadata": {
    "collapsed": false
   },
   "outputs": [],
   "source": [
    "input_x = tf.placeholder(tf.int32, [None, 95], name=\"input_x\")"
   ]
  },
  {
   "cell_type": "code",
   "execution_count": 50,
   "metadata": {
    "collapsed": true
   },
   "outputs": [],
   "source": [
    "input_y = tf.placeholder(tf.float32, [None, 2], name=\"input_y\")"
   ]
  },
  {
   "cell_type": "code",
   "execution_count": 51,
   "metadata": {
    "collapsed": true
   },
   "outputs": [],
   "source": [
    "dropout_keep_prob = tf.placeholder(tf.float32, name=\"dropout_keep_prob\")"
   ]
  },
  {
   "cell_type": "code",
   "execution_count": 52,
   "metadata": {
    "collapsed": true
   },
   "outputs": [],
   "source": [
    "phase_train = tf.placeholder(tf.bool, name='phase_train')"
   ]
  },
  {
   "cell_type": "code",
   "execution_count": 53,
   "metadata": {
    "collapsed": true
   },
   "outputs": [],
   "source": [
    " def batch_norm(x, n_out, phase_train):\n",
    "        with tf.variable_scope('bn'):\n",
    "            beta = tf.Variable(tf.constant(0.0, shape=[n_out]),\n",
    "                                     name='beta', trainable=True)\n",
    "            gamma = tf.Variable(tf.constant(1.0, shape=[n_out]),\n",
    "                                      name='gamma', trainable=True)\n",
    "            batch_mean, batch_var = tf.nn.moments(x, [0,1,2], name='moments')\n",
    "            ema = tf.train.ExponentialMovingAverage(decay=0.5)\n",
    "\n",
    "            def mean_var_with_update():\n",
    "                ema_apply_op = ema.apply([batch_mean, batch_var])\n",
    "                with tf.control_dependencies([ema_apply_op]):\n",
    "                    return tf.identity(batch_mean), tf.identity(batch_var)\n",
    "\n",
    "            mean, var = tf.cond(phase_train,\n",
    "                            mean_var_with_update,\n",
    "                            lambda: (ema.average(batch_mean), ema.average(batch_var)))\n",
    "            normed = tf.nn.batch_normalization(x, mean, var, beta, gamma, 1e-3)\n",
    "        return normed  "
   ]
  },
  {
   "cell_type": "code",
   "execution_count": 67,
   "metadata": {
    "collapsed": true
   },
   "outputs": [],
   "source": [
    "word2vec_weight = np.load('word2vec_weight_200_skip_hs.npz')['E']#gensim 55823\n",
    "word2vec_weight=word2vec_weight.astype('float32')"
   ]
  },
  {
   "cell_type": "code",
   "execution_count": 68,
   "metadata": {
    "collapsed": false
   },
   "outputs": [],
   "source": [
    "with tf.device('/cpu:0'), tf.name_scope(\"embedding\"):\n",
    "            W_embedding = tf.Variable(\n",
    "                word2vec_weight,\n",
    "                name=\"W\")\n",
    "            embedded_chars = tf.nn.embedding_lookup(W_embedding, input_x)\n",
    "            embedded_chars_expanded = tf.expand_dims(embedded_chars, -1)# BHWC"
   ]
  },
  {
   "cell_type": "code",
   "execution_count": 69,
   "metadata": {
    "collapsed": false
   },
   "outputs": [
    {
     "name": "stdout",
     "output_type": "stream",
     "text": [
      "Tensor(\"input_x:0\", shape=(?, 95), dtype=int32) Tensor(\"embedding_2/W/read:0\", shape=(55823, 200), dtype=float32, device=/device:CPU:0)\n"
     ]
    }
   ],
   "source": [
    "print (input_x,W_embedding)"
   ]
  },
  {
   "cell_type": "code",
   "execution_count": 70,
   "metadata": {
    "collapsed": false
   },
   "outputs": [
    {
     "name": "stdout",
     "output_type": "stream",
     "text": [
      "Tensor(\"embedding_2/embedding_lookup:0\", shape=(?, 95, 200), dtype=float32, device=/device:CPU:0) Tensor(\"embedding_2/ExpandDims:0\", shape=(?, 95, 200, 1), dtype=float32, device=/device:CPU:0)\n"
     ]
    }
   ],
   "source": [
    "print (embedded_chars,embedded_chars_expanded)"
   ]
  },
  {
   "cell_type": "code",
   "execution_count": 89,
   "metadata": {
    "collapsed": true
   },
   "outputs": [],
   "source": [
    "pooled_outputs = []\n",
    "filter_sizes = [3]\n",
    "embedding_size = 200\n",
    "num_filters = 100"
   ]
  },
  {
   "cell_type": "code",
   "execution_count": 99,
   "metadata": {
    "collapsed": false
   },
   "outputs": [],
   "source": [
    "for i, filter_size in enumerate(filter_sizes):\n",
    "            with tf.name_scope(\"conv-maxpool-%s\" % filter_size):\n",
    "                # Convolution Layer\n",
    "                filter_shape = [3, 200, 1, 100]\n",
    "                W = tf.Variable(tf.truncated_normal(filter_shape, stddev=0.1), name=\"W\")\n",
    "                b = tf.Variable(tf.constant(0.1, shape=[num_filters]), name=\"b\")\n",
    "                conv = tf.nn.conv2d(\n",
    "                    embedded_chars_expanded,\n",
    "                    W,\n",
    "                    strides=[1, 1, 1, 1],\n",
    "                    padding=\"VALID\",\n",
    "                    name=\"conv\")\n",
    "                # Apply nonlinearity\n",
    "                h = tf.nn.relu(batch_norm(conv,num_filters,phase_train), name=\"relu\")\n",
    "            with tf.name_scope(\"conv-maxpool-%s\" % filter_size):\n",
    "                # Convolution Layer\n",
    "                filter_shape = [3, 3, 1, 100]\n",
    "                W2 = tf.Variable(tf.truncated_normal(filter_shape, stddev=0.1), name=\"W2\")\n",
    "                b2 = tf.Variable(tf.constant(0.1, shape=[num_filters]), name=\"b2\")\n",
    "                conv = tf.nn.conv2d(\n",
    "                    tf.transpose(h,[0,1,3,2]),\n",
    "                    W2,\n",
    "                    strides=[1, 1, 1, 1],\n",
    "                    padding=\"VALID\",\n",
    "                    name=\"conv\")\n",
    "                # Apply nonlinearity\n",
    "                h = tf.nn.relu(batch_norm(conv,num_filters,phase_train), name=\"relu\")\n",
    " "
   ]
  },
  {
   "cell_type": "code",
   "execution_count": 100,
   "metadata": {
    "collapsed": false
   },
   "outputs": [
    {
     "name": "stdout",
     "output_type": "stream",
     "text": [
      "Tensor(\"conv-maxpool-3_8/relu:0\", shape=(?, 91, 98, 100), dtype=float32)\n"
     ]
    }
   ],
   "source": [
    "print (h)"
   ]
  },
  {
   "cell_type": "code",
   "execution_count": 101,
   "metadata": {
    "collapsed": true
   },
   "outputs": [],
   "source": [
    "def GlobalAvgPooling(x):\n",
    "    assert x.get_shape().ndims == 4\n",
    "    return tf.reduce_mean(x, [1, 2])"
   ]
  },
  {
   "cell_type": "code",
   "execution_count": 110,
   "metadata": {
    "collapsed": false
   },
   "outputs": [],
   "source": [
    "h_pool_flat= (GlobalAvgPooling(h))\n",
    "num_filters_total=100"
   ]
  },
  {
   "cell_type": "code",
   "execution_count": null,
   "metadata": {
    "collapsed": true
   },
   "outputs": [],
   "source": [
    "                # Maxpooling over the outputs\n",
    "                pooled = tf.nn.max_pool(\n",
    "                    h,\n",
    "                    ksize=[1, 95 - filter_size + 1, 1, 1], # conv한후에 갯수의 크기를 갖는 윈도우생성\n",
    "                    strides=[1, 1, 1, 1],\n",
    "                    padding='VALID',\n",
    "                    name=\"pool\")\n",
    "                pooled_outputs.append(pooled)"
   ]
  },
  {
   "cell_type": "code",
   "execution_count": 91,
   "metadata": {
    "collapsed": false
   },
   "outputs": [
    {
     "name": "stdout",
     "output_type": "stream",
     "text": [
      "Tensor(\"bn_1/batchnorm/add_1:0\", shape=(?, 93, 1, 100), dtype=float32) \n",
      " Tensor(\"conv-maxpool-3_4/conv:0\", shape=(?, 93, 1, 100), dtype=float32) \n",
      " [<tf.Tensor 'conv-maxpool-3_4/pool:0' shape=(?, 1, 1, 100) dtype=float32>]\n"
     ]
    }
   ],
   "source": [
    "print (batch_norm(conv,num_filters,phase_train),'\\n',conv,'\\n',pooled_outputs)"
   ]
  },
  {
   "cell_type": "code",
   "execution_count": 92,
   "metadata": {
    "collapsed": true
   },
   "outputs": [],
   "source": [
    "num_filters_total = 100 * len(filter_sizes)"
   ]
  },
  {
   "cell_type": "code",
   "execution_count": 93,
   "metadata": {
    "collapsed": false
   },
   "outputs": [],
   "source": [
    "h_pool = tf.concat(3, pooled_outputs)"
   ]
  },
  {
   "cell_type": "code",
   "execution_count": 94,
   "metadata": {
    "collapsed": false
   },
   "outputs": [],
   "source": [
    "h_pool_flat = tf.reshape(h_pool, [-1, num_filters_total]) # 차원을 편다"
   ]
  },
  {
   "cell_type": "code",
   "execution_count": 107,
   "metadata": {
    "collapsed": false
   },
   "outputs": [
    {
     "data": {
      "text/plain": [
       "(<tf.Tensor 'concat_4:0' shape=(?, 1, 1, 100) dtype=float32>,\n",
       " <tf.Tensor 'Mean_1:0' shape=(?, 100) dtype=float32>)"
      ]
     },
     "execution_count": 107,
     "metadata": {},
     "output_type": "execute_result"
    }
   ],
   "source": [
    "h_pool,h_pool_flat"
   ]
  },
  {
   "cell_type": "code",
   "execution_count": 108,
   "metadata": {
    "collapsed": true
   },
   "outputs": [],
   "source": [
    "h_drop = tf.nn.dropout(h_pool_flat, dropout_keep_prob)"
   ]
  },
  {
   "cell_type": "code",
   "execution_count": 109,
   "metadata": {
    "collapsed": false
   },
   "outputs": [
    {
     "data": {
      "text/plain": [
       "<tf.Tensor 'dropout_1/mul:0' shape=(?, 100) dtype=float32>"
      ]
     },
     "execution_count": 109,
     "metadata": {},
     "output_type": "execute_result"
    }
   ],
   "source": [
    "h_drop"
   ]
  },
  {
   "cell_type": "code",
   "execution_count": 111,
   "metadata": {
    "collapsed": false
   },
   "outputs": [],
   "source": [
    "l2_loss = tf.constant(0.0)\n",
    "with tf.name_scope(\"output\"):\n",
    "            W = tf.get_variable(\n",
    "                \"W_2\",\n",
    "                shape=[num_filters_total, 2],\n",
    "                initializer=tf.contrib.layers.xavier_initializer())\n",
    "            b = tf.Variable(tf.constant(0.1, shape=[2]), name=\"b\")\n",
    "            l2_loss += tf.nn.l2_loss(W)\n",
    "            l2_loss += tf.nn.l2_loss(b)\n",
    "            scores = tf.nn.xw_plus_b(h_drop, W, b, name=\"scores\")\n",
    "            predictions = tf.argmax(scores, 1, name=\"predictions\")"
   ]
  },
  {
   "cell_type": "code",
   "execution_count": 112,
   "metadata": {
    "collapsed": false
   },
   "outputs": [
    {
     "name": "stdout",
     "output_type": "stream",
     "text": [
      "Tensor(\"W_2/read:0\", shape=(100, 2), dtype=float32)\n"
     ]
    }
   ],
   "source": [
    "print (W)"
   ]
  },
  {
   "cell_type": "code",
   "execution_count": 113,
   "metadata": {
    "collapsed": true
   },
   "outputs": [],
   "source": [
    " with tf.name_scope(\"loss\"):\n",
    "            losses = tf.nn.softmax_cross_entropy_with_logits(scores, input_y)"
   ]
  },
  {
   "cell_type": "code",
   "execution_count": 114,
   "metadata": {
    "collapsed": false
   },
   "outputs": [],
   "source": [
    "l2_constraint = tf.constant(3.0)"
   ]
  },
  {
   "cell_type": "code",
   "execution_count": 116,
   "metadata": {
    "collapsed": false
   },
   "outputs": [],
   "source": [
    "loss = tf.reduce_mean(losses) + 0.01 * l2_loss"
   ]
  },
  {
   "cell_type": "code",
   "execution_count": 117,
   "metadata": {
    "collapsed": false
   },
   "outputs": [
    {
     "data": {
      "text/plain": [
       "(<tf.Tensor 'add:0' shape=() dtype=float32>,\n",
       " <tf.Tensor 'output/add_1:0' shape=() dtype=float32>,\n",
       " <tf.Tensor 'loss/Reshape_2:0' shape=(?,) dtype=float32>)"
      ]
     },
     "execution_count": 117,
     "metadata": {},
     "output_type": "execute_result"
    }
   ],
   "source": [
    "loss,l2_loss,losses"
   ]
  },
  {
   "cell_type": "code",
   "execution_count": 118,
   "metadata": {
    "collapsed": false
   },
   "outputs": [],
   "source": [
    "optimizer = tf.train.AdagradOptimizer(0.01)"
   ]
  },
  {
   "cell_type": "code",
   "execution_count": 97,
   "metadata": {
    "collapsed": false
   },
   "outputs": [],
   "source": [
    "grads_and_vars = optimizer.compute_gradients(loss)"
   ]
  },
  {
   "cell_type": "code",
   "execution_count": 101,
   "metadata": {
    "collapsed": false
   },
   "outputs": [],
   "source": [
    "global_step = tf.Variable(0, name=\"global_step\", trainable=False)\n",
    "train_op = optimizer.apply_gradients(grads_and_vars, global_step=global_step)"
   ]
  },
  {
   "cell_type": "code",
   "execution_count": 103,
   "metadata": {
    "collapsed": false
   },
   "outputs": [
    {
     "name": "stdout",
     "output_type": "stream",
     "text": [
      "name: \"Adagrad\"\n",
      "op: \"AssignAdd\"\n",
      "input: \"global_step\"\n",
      "input: \"Adagrad/value\"\n",
      "attr {\n",
      "  key: \"T\"\n",
      "  value {\n",
      "    type: DT_INT32\n",
      "  }\n",
      "}\n",
      "attr {\n",
      "  key: \"_class\"\n",
      "  value {\n",
      "    list {\n",
      "      s: \"loc:@global_step\"\n",
      "    }\n",
      "  }\n",
      "}\n",
      "attr {\n",
      "  key: \"use_locking\"\n",
      "  value {\n",
      "    b: false\n",
      "  }\n",
      "}\n",
      "\n"
     ]
    }
   ],
   "source": [
    "print (train_op)"
   ]
  },
  {
   "cell_type": "code",
   "execution_count": 7,
   "metadata": {
    "collapsed": false
   },
   "outputs": [],
   "source": [
    "cnn = TextCNN(\n",
    "            sequence_length=x_train.shape[1],\n",
    "            num_classes=y_train.shape[1],\n",
    "            vocab_size=len(vocab_processor.vocabulary_),\n",
    "            embedding_size=FLAGS.embedding_dim,\n",
    "            filter_sizes=list(map(int, FLAGS.filter_sizes.split(\",\"))),\n",
    "            num_filters=FLAGS.num_filters,\n",
    "            l2_reg_lambda=FLAGS.l2_reg_lambda)"
   ]
  },
  {
   "cell_type": "code",
   "execution_count": 19,
   "metadata": {
    "collapsed": false
   },
   "outputs": [
    {
     "name": "stdout",
     "output_type": "stream",
     "text": [
      "Tensor(\"read:0\", shape=(47086, 100), dtype=float32)\n"
     ]
    }
   ],
   "source": [
    "print (cnn.W_e.read_value())"
   ]
  },
  {
   "cell_type": "code",
   "execution_count": 4,
   "metadata": {
    "collapsed": false
   },
   "outputs": [
    {
     "data": {
      "text/plain": [
       "(22400, 0.87239987)"
      ]
     },
     "execution_count": 4,
     "metadata": {},
     "output_type": "execute_result"
    }
   ],
   "source": [
    "data = np.load('3,4,5.npz')#128128\n",
    "100*(np.argmax(data['loss'])+1),np.max(data['loss'])"
   ]
  },
  {
   "cell_type": "code",
   "execution_count": 72,
   "metadata": {
    "collapsed": false
   },
   "outputs": [
    {
     "data": {
      "text/plain": [
       "(29600, 0.87220007)"
      ]
     },
     "execution_count": 72,
     "metadata": {},
     "output_type": "execute_result"
    }
   ],
   "source": [
    "data = np.load('5.npz')# overfit x\n",
    "100*(np.argmax(data['loss'])+1),np.max(data['loss'])"
   ]
  },
  {
   "cell_type": "code",
   "execution_count": 71,
   "metadata": {
    "collapsed": false
   },
   "outputs": [
    {
     "data": {
      "text/plain": [
       "(24200, 0.87110007)"
      ]
     },
     "execution_count": 71,
     "metadata": {},
     "output_type": "execute_result"
    }
   ],
   "source": [
    "data = np.load('7.npz')\n",
    "100*(np.argmax(data['loss'])+1),np.max(data['loss'])"
   ]
  },
  {
   "cell_type": "code",
   "execution_count": 70,
   "metadata": {
    "collapsed": false
   },
   "outputs": [
    {
     "data": {
      "text/plain": [
       "(24200, 0.87110001)"
      ]
     },
     "execution_count": 70,
     "metadata": {},
     "output_type": "execute_result"
    }
   ],
   "source": [
    "data = np.load('6.npz')\n",
    "100*(np.argmax(data['loss'])+1),np.max(data['loss'])"
   ]
  },
  {
   "cell_type": "code",
   "execution_count": 73,
   "metadata": {
    "collapsed": false
   },
   "outputs": [
    {
     "data": {
      "text/plain": [
       "(34200, 0.87180007)"
      ]
     },
     "execution_count": 73,
     "metadata": {},
     "output_type": "execute_result"
    }
   ],
   "source": [
    "data = np.load('4.npz')\n",
    "100*(np.argmax(data['loss'])+1),np.max(data['loss'])"
   ]
  },
  {
   "cell_type": "code",
   "execution_count": 69,
   "metadata": {
    "collapsed": false
   },
   "outputs": [
    {
     "data": {
      "text/plain": [
       "(29000, 0.87230003)"
      ]
     },
     "execution_count": 69,
     "metadata": {},
     "output_type": "execute_result"
    }
   ],
   "source": [
    "data = np.load('3.npz')\n",
    "100*(np.argmax(data['loss'])+1),np.max(data['loss'])"
   ]
  },
  {
   "cell_type": "code",
   "execution_count": 74,
   "metadata": {
    "collapsed": false
   },
   "outputs": [
    {
     "data": {
      "text/plain": [
       "(33200, 0.86990011)"
      ]
     },
     "execution_count": 74,
     "metadata": {},
     "output_type": "execute_result"
    }
   ],
   "source": [
    "data = np.load('2.npz')\n",
    "100*(np.argmax(data['loss'])+1),np.max(data['loss'])"
   ]
  },
  {
   "cell_type": "code",
   "execution_count": 75,
   "metadata": {
    "collapsed": false
   },
   "outputs": [
    {
     "data": {
      "text/plain": [
       "(16700, 0.85410011)"
      ]
     },
     "execution_count": 75,
     "metadata": {},
     "output_type": "execute_result"
    }
   ],
   "source": [
    "data = np.load('1.npz')\n",
    "100*(np.argmax(data['loss'])+1),np.max(data['loss'])"
   ]
  },
  {
   "cell_type": "code",
   "execution_count": 77,
   "metadata": {
    "collapsed": false
   },
   "outputs": [
    {
     "data": {
      "text/plain": [
       "(48300, 0.87683344)"
      ]
     },
     "execution_count": 77,
     "metadata": {},
     "output_type": "execute_result"
    }
   ],
   "source": [
    "data = np.load('3,6,7.npz')\n",
    "100*(np.argmax(data['loss'])+1),np.max(data['loss'])"
   ]
  },
  {
   "cell_type": "code",
   "execution_count": 86,
   "metadata": {
    "collapsed": false
   },
   "outputs": [
    {
     "data": {
      "text/plain": [
       "(23900, 0.87750012)"
      ]
     },
     "execution_count": 86,
     "metadata": {},
     "output_type": "execute_result"
    }
   ],
   "source": [
    "data = np.load('8.npz')\n",
    "100*(np.argmax(data['loss'])+1),np.max(data['loss'])"
   ]
  },
  {
   "cell_type": "code",
   "execution_count": 5,
   "metadata": {
    "collapsed": false
   },
   "outputs": [
    {
     "data": {
      "text/plain": [
       "(26600, 0.87583345)"
      ]
     },
     "execution_count": 5,
     "metadata": {},
     "output_type": "execute_result"
    }
   ],
   "source": [
    "data = np.load('9.npz')\n",
    "100*(np.argmax(data['loss'])+1),np.max(data['loss'])"
   ]
  },
  {
   "cell_type": "code",
   "execution_count": 54,
   "metadata": {
    "collapsed": false
   },
   "outputs": [
    {
     "data": {
      "text/plain": [
       "(47600, 0.8773334)"
      ]
     },
     "execution_count": 54,
     "metadata": {},
     "output_type": "execute_result"
    }
   ],
   "source": [
    "data = np.load('2,4,6_bn.npz')\n",
    "100*(np.argmax(data['accuray'])+1),np.max(data['accuray'])"
   ]
  },
  {
   "cell_type": "code",
   "execution_count": 109,
   "metadata": {
    "collapsed": false
   },
   "outputs": [
    {
     "data": {
      "text/plain": [
       "(29600, 0.87216675)"
      ]
     },
     "execution_count": 109,
     "metadata": {},
     "output_type": "execute_result"
    }
   ],
   "source": [
    "data = np.load('2,4,6.npz')\n",
    "100*(np.argmax(data['loss'])+1),np.max(data['loss'])"
   ]
  },
  {
   "cell_type": "code",
   "execution_count": 27,
   "metadata": {
    "collapsed": false
   },
   "outputs": [
    {
     "data": {
      "text/plain": [
       "(38400, 0.86983347)"
      ]
     },
     "execution_count": 27,
     "metadata": {},
     "output_type": "execute_result"
    }
   ],
   "source": [
    "data = np.load('8_w.npz')\n",
    "100*(np.argmax(data['loss'])+1),np.max(data['loss'])"
   ]
  },
  {
   "cell_type": "code",
   "execution_count": 22,
   "metadata": {
    "collapsed": false
   },
   "outputs": [
    {
     "data": {
      "text/plain": [
       "(36200, 0.87333339)"
      ]
     },
     "execution_count": 22,
     "metadata": {},
     "output_type": "execute_result"
    }
   ],
   "source": [
    "data = np.load('3_w.npz')\n",
    "100*(np.argmax(data['loss'])+1),np.max(data['loss'])"
   ]
  },
  {
   "cell_type": "code",
   "execution_count": 85,
   "metadata": {
    "collapsed": false
   },
   "outputs": [
    {
     "data": {
      "text/plain": [
       "(36800, 0.87383342)"
      ]
     },
     "execution_count": 85,
     "metadata": {},
     "output_type": "execute_result"
    }
   ],
   "source": [
    "data = np.load('3,4,5_w.npz')\n",
    "100*(np.argmax(data['loss'])+1),np.max(data['loss'])"
   ]
  },
  {
   "cell_type": "code",
   "execution_count": 93,
   "metadata": {
    "collapsed": false
   },
   "outputs": [
    {
     "data": {
      "text/plain": [
       "(35700, 0.87300003)"
      ]
     },
     "execution_count": 93,
     "metadata": {},
     "output_type": "execute_result"
    }
   ],
   "source": [
    "data = np.load('3_w_128.npz')\n",
    "100*(np.argmax(data['loss'])+1),np.max(data['loss'])"
   ]
  },
  {
   "cell_type": "code",
   "execution_count": 153,
   "metadata": {
    "collapsed": false
   },
   "outputs": [
    {
     "data": {
      "text/plain": [
       "(22200, 0.87166673)"
      ]
     },
     "execution_count": 153,
     "metadata": {},
     "output_type": "execute_result"
    }
   ],
   "source": [
    "data = np.load('4_w_1282.npz')\n",
    "100*(np.argmax(data['loss'])+1),np.max(data['loss'])"
   ]
  },
  {
   "cell_type": "code",
   "execution_count": 154,
   "metadata": {
    "collapsed": false
   },
   "outputs": [
    {
     "data": {
      "text/plain": [
       "(26500, 0.87633342)"
      ]
     },
     "execution_count": 154,
     "metadata": {},
     "output_type": "execute_result"
    }
   ],
   "source": [
    "data = np.load('4_w_128.npz')\n",
    "100*(np.argmax(data['loss'])+1),np.max(data['loss'])"
   ]
  },
  {
   "cell_type": "code",
   "execution_count": 164,
   "metadata": {
    "collapsed": false
   },
   "outputs": [
    {
     "data": {
      "text/plain": [
       "(35500, 0.87433332)"
      ]
     },
     "execution_count": 164,
     "metadata": {},
     "output_type": "execute_result"
    }
   ],
   "source": [
    "data = np.load('4_w_200.npz')\n",
    "100*(np.argmax(data['loss'])+1),np.max(data['loss'])"
   ]
  },
  {
   "cell_type": "code",
   "execution_count": 92,
   "metadata": {
    "collapsed": false
   },
   "outputs": [
    {
     "data": {
      "text/plain": [
       "(63200, 0.87350005)"
      ]
     },
     "execution_count": 92,
     "metadata": {},
     "output_type": "execute_result"
    }
   ],
   "source": [
    "data = np.load('3_w_200.npz')\n",
    "100*(np.argmax(data['loss'])+1),np.max(data['loss'])"
   ]
  },
  {
   "cell_type": "code",
   "execution_count": 33,
   "metadata": {
    "collapsed": false
   },
   "outputs": [
    {
     "data": {
      "text/plain": [
       "(23500, 0.87433344)"
      ]
     },
     "execution_count": 33,
     "metadata": {},
     "output_type": "execute_result"
    }
   ],
   "source": [
    "data = np.load('5_w_200.npz')\n",
    "100*(np.argmax(data['loss'])+1),np.max(data['loss'])"
   ]
  },
  {
   "cell_type": "code",
   "execution_count": 154,
   "metadata": {
    "collapsed": false
   },
   "outputs": [
    {
     "data": {
      "text/plain": [
       "(40400, 0.8720001)"
      ]
     },
     "execution_count": 154,
     "metadata": {},
     "output_type": "execute_result"
    }
   ],
   "source": [
    "data = np.load('3cnn2_w_200.npz')\n",
    "100*(np.argmax(data['loss'])+1),np.max(data['loss'])"
   ]
  },
  {
   "cell_type": "code",
   "execution_count": 237,
   "metadata": {
    "collapsed": false,
    "scrolled": true
   },
   "outputs": [
    {
     "data": {
      "text/plain": [
       "(36300, 0.87483346)"
      ]
     },
     "execution_count": 237,
     "metadata": {},
     "output_type": "execute_result"
    }
   ],
   "source": [
    "data = np.load('3cnn2_w_200_T.npz')\n",
    "100*(np.argmax(data['loss'])+1),np.max(data['loss'])"
   ]
  },
  {
   "cell_type": "code",
   "execution_count": 419,
   "metadata": {
    "collapsed": false
   },
   "outputs": [
    {
     "data": {
      "text/plain": [
       "(33700, 0.87566674)"
      ]
     },
     "execution_count": 419,
     "metadata": {},
     "output_type": "execute_result"
    }
   ],
   "source": [
    "data = np.load('3cnn2_w_200_T_no.npz')\n",
    "100*(np.argmax(data['loss'])+1),np.max(data['loss'])"
   ]
  },
  {
   "cell_type": "code",
   "execution_count": 504,
   "metadata": {
    "collapsed": false
   },
   "outputs": [
    {
     "data": {
      "text/plain": [
       "(18300, 0.86716676)"
      ]
     },
     "execution_count": 504,
     "metadata": {},
     "output_type": "execute_result"
    }
   ],
   "source": [
    "data = np.load('3cnn2_w_200_T_no2.npz')\n",
    "100*(np.argmax(data['loss'])+1),np.max(data['loss'])"
   ]
  },
  {
   "cell_type": "code",
   "execution_count": 483,
   "metadata": {
    "collapsed": false
   },
   "outputs": [
    {
     "data": {
      "text/plain": [
       "(26200, 0.87233347)"
      ]
     },
     "execution_count": 483,
     "metadata": {},
     "output_type": "execute_result"
    }
   ],
   "source": [
    "data = np.load('5cnn2_w_200_T_no2.npz')\n",
    "100*(np.argmax(data['loss'])+1),np.max(data['loss'])"
   ]
  },
  {
   "cell_type": "code",
   "execution_count": 501,
   "metadata": {
    "collapsed": false
   },
   "outputs": [
    {
     "data": {
      "text/plain": [
       "(33700, 0.87283337)"
      ]
     },
     "execution_count": 501,
     "metadata": {},
     "output_type": "execute_result"
    }
   ],
   "source": [
    "data = np.load('5cnn3_w_200_T_no2.npz')\n",
    "100*(np.argmax(data['loss'])+1),np.max(data['loss'])"
   ]
  },
  {
   "cell_type": "code",
   "execution_count": 541,
   "metadata": {
    "collapsed": false
   },
   "outputs": [
    {
     "data": {
      "text/plain": [
       "(24700, 0.87533343)"
      ]
     },
     "execution_count": 541,
     "metadata": {},
     "output_type": "execute_result"
    }
   ],
   "source": [
    "data = np.load('3cnn3_w_200_T_no2.npz')\n",
    "100*(np.argmax(data['loss'])+1),np.max(data['loss'])"
   ]
  },
  {
   "cell_type": "code",
   "execution_count": 892,
   "metadata": {
    "collapsed": false
   },
   "outputs": [
    {
     "data": {
      "text/plain": [
       "(18100, 0.86100012)"
      ]
     },
     "execution_count": 892,
     "metadata": {},
     "output_type": "execute_result"
    }
   ],
   "source": [
    "data = np.load('3cnn3_w_200_T_no0.npz')\n",
    "100*(np.argmax(data['loss'])+1),np.max(data['loss'])"
   ]
  },
  {
   "cell_type": "code",
   "execution_count": 32,
   "metadata": {
    "collapsed": false
   },
   "outputs": [
    {
     "data": {
      "text/plain": [
       "(3200, 0.55066675)"
      ]
     },
     "execution_count": 32,
     "metadata": {},
     "output_type": "execute_result"
    }
   ],
   "source": [
    "data = np.load('3cnn3_w_200_no0.npz')\n",
    "100*(np.argmax(data['loss'])+1),np.max(data['loss'])"
   ]
  },
  {
   "cell_type": "code",
   "execution_count": 317,
   "metadata": {
    "collapsed": false
   },
   "outputs": [
    {
     "data": {
      "text/plain": [
       "(33600, 0.87983346)"
      ]
     },
     "execution_count": 317,
     "metadata": {},
     "output_type": "execute_result"
    }
   ],
   "source": [
    "data = np.load('cnn_w2v_bn_dr_l2.npz')\n",
    "100*(np.argmax(data['loss'])+1),np.max(data['loss'])"
   ]
  },
  {
   "cell_type": "code",
   "execution_count": 1244,
   "metadata": {
    "collapsed": false
   },
   "outputs": [
    {
     "data": {
      "text/plain": [
       "(13000, 0.86066681)"
      ]
     },
     "execution_count": 1244,
     "metadata": {},
     "output_type": "execute_result"
    }
   ],
   "source": [
    "data = np.load('3cnn_w2v_bn_.npz')\n",
    "100*(np.argmax(data['loss'])+1),np.max(data['loss'])"
   ]
  },
  {
   "cell_type": "code",
   "execution_count": 136,
   "metadata": {
    "collapsed": false,
    "scrolled": true
   },
   "outputs": [
    {
     "data": {
      "text/plain": [
       "(15300, 0.86933345)"
      ]
     },
     "execution_count": 136,
     "metadata": {},
     "output_type": "execute_result"
    }
   ],
   "source": [
    "data = np.load('3cnn_v.npz')\n",
    "100*(np.argmax(data['loss'])+1),np.max(data['loss'])"
   ]
  },
  {
   "cell_type": "code",
   "execution_count": 135,
   "metadata": {
    "collapsed": false
   },
   "outputs": [
    {
     "data": {
      "text/plain": [
       "(16800, 0.87583339)"
      ]
     },
     "execution_count": 135,
     "metadata": {},
     "output_type": "execute_result"
    }
   ],
   "source": [
    "data = np.load('3cnn_w2v.npz')\n",
    "100*(np.argmax(data['loss'])+1),np.max(data['loss'])"
   ]
  },
  {
   "cell_type": "code",
   "execution_count": 132,
   "metadata": {
    "collapsed": false
   },
   "outputs": [
    {
     "data": {
      "text/plain": [
       "(21200, 0.87400001)"
      ]
     },
     "execution_count": 132,
     "metadata": {},
     "output_type": "execute_result"
    }
   ],
   "source": [
    "data = np.load('3cnn_w2v_bn.npz')\n",
    "100*(np.argmax(data['loss'])+1),np.max(data['loss'])"
   ]
  },
  {
   "cell_type": "code",
   "execution_count": 117,
   "metadata": {
    "collapsed": false,
    "scrolled": true
   },
   "outputs": [
    {
     "data": {
      "text/plain": [
       "(7100, 0.87133348)"
      ]
     },
     "execution_count": 117,
     "metadata": {},
     "output_type": "execute_result"
    }
   ],
   "source": [
    "data = np.load('3cnn_w2v_bn1.npz')\n",
    "100*(np.argmax(data['loss'])+1),np.max(data['loss'])"
   ]
  },
  {
   "cell_type": "code",
   "execution_count": 341,
   "metadata": {
    "collapsed": false
   },
   "outputs": [
    {
     "data": {
      "text/plain": [
       "(11100, 0.87283343)"
      ]
     },
     "execution_count": 341,
     "metadata": {},
     "output_type": "execute_result"
    }
   ],
   "source": [
    "data = np.load('3cnn_w2v_bn1_25.npz')\n",
    "100*(np.argmax(data['loss'])+1),np.max(data['loss'])"
   ]
  },
  {
   "cell_type": "code",
   "execution_count": 367,
   "metadata": {
    "collapsed": false
   },
   "outputs": [
    {
     "data": {
      "text/plain": [
       "(9200, 0.87100005)"
      ]
     },
     "execution_count": 367,
     "metadata": {},
     "output_type": "execute_result"
    }
   ],
   "source": [
    "data = np.load('3cnn_w2v_bn1_35.npz')\n",
    "100*(np.argmax(data['loss'])+1),np.max(data['loss'])"
   ]
  },
  {
   "cell_type": "code",
   "execution_count": 201,
   "metadata": {
    "collapsed": true
   },
   "outputs": [],
   "source": [
    "np.savez('cnn3_w2v.npz',acc=data['acc'])"
   ]
  },
  {
   "cell_type": "code",
   "execution_count": 59,
   "metadata": {
    "collapsed": false
   },
   "outputs": [
    {
     "data": {
      "text/plain": [
       "(26300, 0.87700009)"
      ]
     },
     "execution_count": 59,
     "metadata": {},
     "output_type": "execute_result"
    }
   ],
   "source": [
    "data = np.load('cnn_2_f_3_3_w2v_bn_2.npz')\n",
    "100*(np.argmax(data['acc'])+1),np.max(data['acc'])"
   ]
  },
  {
   "cell_type": "code",
   "execution_count": 387,
   "metadata": {
    "collapsed": false
   },
   "outputs": [
    {
     "data": {
      "text/plain": [
       "(20400, 0.87883341)"
      ]
     },
     "execution_count": 387,
     "metadata": {},
     "output_type": "execute_result"
    }
   ],
   "source": [
    "data = np.load('cnn_2_f_3_3_w2v_bn_3.npz')\n",
    "100*(np.argmax(data['acc'])+1),np.max(data['acc'])"
   ]
  },
  {
   "cell_type": "code",
   "execution_count": 202,
   "metadata": {
    "collapsed": false
   },
   "outputs": [
    {
     "data": {
      "text/plain": [
       "(14000, 0.8720001)"
      ]
     },
     "execution_count": 202,
     "metadata": {},
     "output_type": "execute_result"
    }
   ],
   "source": [
    "data = np.load('cnn3_w2v.npz')\n",
    "100*(np.argmax(data['acc'])+1),np.max(data['acc'])"
   ]
  },
  {
   "cell_type": "code",
   "execution_count": 8,
   "metadata": {
    "collapsed": false
   },
   "outputs": [
    {
     "data": {
      "text/plain": [
       "(14200, 0.86933339)"
      ]
     },
     "execution_count": 8,
     "metadata": {},
     "output_type": "execute_result"
    }
   ],
   "source": [
    "data = np.load('cnn_f_3.npz')\n",
    "100*(np.argmax(data['acc'])+1),np.max(data['acc'])"
   ]
  },
  {
   "cell_type": "code",
   "execution_count": 392,
   "metadata": {
    "collapsed": false
   },
   "outputs": [
    {
     "data": {
      "text/plain": [
       "(12200, 0.87250006)"
      ]
     },
     "execution_count": 392,
     "metadata": {},
     "output_type": "execute_result"
    }
   ],
   "source": [
    "data = np.load('3cnn_f_3_w2v.npz')\n",
    "100*(np.argmax(data['acc'])+1),np.max(data['acc'])"
   ]
  },
  {
   "cell_type": "code",
   "execution_count": 5,
   "metadata": {
    "collapsed": false
   },
   "outputs": [
    {
     "data": {
      "text/plain": [
       "(16800, 0.87750018)"
      ]
     },
     "execution_count": 5,
     "metadata": {},
     "output_type": "execute_result"
    }
   ],
   "source": [
    "data = np.load('3cnn_f_3_w2v_3.npz')\n",
    "100*(np.argmax(data['acc'])+1),np.max(data['acc'])"
   ]
  },
  {
   "cell_type": "code",
   "execution_count": 184,
   "metadata": {
    "collapsed": false
   },
   "outputs": [
    {
     "data": {
      "text/plain": [
       "(38400, 0.90000004)"
      ]
     },
     "execution_count": 184,
     "metadata": {},
     "output_type": "execute_result"
    }
   ],
   "source": [
    "data = np.load('3cnn_f_3_w2v_b3.npz')\n",
    "100*(np.argmax(data['acc'])+1),np.max(data['acc'])"
   ]
  },
  {
   "cell_type": "code",
   "execution_count": 267,
   "metadata": {
    "collapsed": false
   },
   "outputs": [
    {
     "data": {
      "text/plain": [
       "(6600, 0.9000001)"
      ]
     },
     "execution_count": 267,
     "metadata": {},
     "output_type": "execute_result"
    }
   ],
   "source": [
    "data = np.load('3_cnn2_GP.npz')\n",
    "100*(np.argmax(data['acc'])+1),np.max(data['acc'])"
   ]
  },
  {
   "cell_type": "code",
   "execution_count": 385,
   "metadata": {
    "collapsed": false
   },
   "outputs": [
    {
     "data": {
      "text/plain": [
       "(17600, 0.85713649)"
      ]
     },
     "execution_count": 385,
     "metadata": {},
     "output_type": "execute_result"
    }
   ],
   "source": [
    "data = np.load('3_cnn_f_3_w2v_gp.npz')\n",
    "100*(np.argmax(data['acc'])+1),np.max(data['acc'])"
   ]
  },
  {
   "cell_type": "code",
   "execution_count": 9,
   "metadata": {
    "collapsed": false
   },
   "outputs": [
    {
     "data": {
      "image/png": "[encoded data removed]",
      "text/plain": [
       "<matplotlib.figure.Figure at 0x197263407f0>"
      ]
     },
     "metadata": {},
     "output_type": "display_data"
    },
    {
     "name": "stdout",
     "output_type": "stream",
     "text": [
      "average : 0.86444\n",
      "-10average : 0.86455\n",
      "max : 0.869333\n"
     ]
    }
   ],
   "source": [
    "%matplotlib inline\n",
    "\n",
    "import matplotlib.pyplot as plt\n",
    "import matplotlib\n",
    "\n",
    "x=range(len(data['acc'][:50]))\n",
    "y=data['acc'][:50]\n",
    "\n",
    "plt.title('CNN')\n",
    "plt.plot(x,y)\n",
    "plt.show()\n",
    "print ('average : '+str(np.average(data['acc'][-50:])))\n",
    "print ('-10average : '+str(np.average(data['acc'][-10:])))\n",
    "print ('max : '+str(np.max(data['acc'])))"
   ]
  },
  {
   "cell_type": "code",
   "execution_count": 384,
   "metadata": {
    "collapsed": false
   },
   "outputs": [
    {
     "data": {
      "image/png": "[encoded data removed]",
      "text/plain": [
       "<matplotlib.figure.Figure at 0x1a23388c2e8>"
      ]
     },
     "metadata": {},
     "output_type": "display_data"
    },
    {
     "name": "stdout",
     "output_type": "stream",
     "text": [
      "average : 0.846405\n",
      "-10average : 0.846986\n",
      "max : 0.857136\n"
     ]
    }
   ],
   "source": [
    "%matplotlib inline\n",
    "\n",
    "import matplotlib.pyplot as plt\n",
    "import matplotlib\n",
    "\n",
    "x=range(len(data['acc'][-20:]))\n",
    "y=data['acc'][-20:]\n",
    "\n",
    "plt.title('last loss score : %f' %y[-1])\n",
    "plt.plot(x,y)\n",
    "plt.show()\n",
    "print ('average : '+str(np.average(data['acc'][-20:])))\n",
    "print ('-10average : '+str(np.average(data['acc'][-10:])))\n",
    "print ('max : '+str(np.max(data['acc'])))"
   ]
  },
  {
   "cell_type": "code",
   "execution_count": 142,
   "metadata": {
    "collapsed": false
   },
   "outputs": [
    {
     "data": {
      "text/plain": [
       "(23100, 0.31680444)"
      ]
     },
     "execution_count": 142,
     "metadata": {},
     "output_type": "execute_result"
    }
   ],
   "source": [
    "data_loss = np.load('2,4,6_loss.npz')\n",
    "100*(np.argmin(data_loss['loss'])+1),np.min(data_loss['loss'])"
   ]
  },
  {
   "cell_type": "code",
   "execution_count": 144,
   "metadata": {
    "collapsed": false
   },
   "outputs": [
    {
     "data": {
      "text/plain": [
       "(24100, 0.30786249)"
      ]
     },
     "execution_count": 144,
     "metadata": {},
     "output_type": "execute_result"
    }
   ],
   "source": [
    "data_loss = np.load('9_loss.npz')\n",
    "100*(np.argmin(data_loss['loss'])+1),np.min(data_loss['loss'])"
   ]
  },
  {
   "cell_type": "code",
   "execution_count": 25,
   "metadata": {
    "collapsed": false
   },
   "outputs": [
    {
     "data": {
      "text/plain": [
       "(17600, 0.30367121)"
      ]
     },
     "execution_count": 25,
     "metadata": {},
     "output_type": "execute_result"
    }
   ],
   "source": [
    "data_loss = np.load('8_loss.npz')\n",
    "100*(np.argmin(data_loss['loss'])+1),np.min(data_loss['loss'])"
   ]
  },
  {
   "cell_type": "code",
   "execution_count": 29,
   "metadata": {
    "collapsed": false
   },
   "outputs": [
    {
     "data": {
      "text/plain": [
       "(23200, 0.31954449)"
      ]
     },
     "execution_count": 29,
     "metadata": {},
     "output_type": "execute_result"
    }
   ],
   "source": [
    "data_loss = np.load('8_w_loss.npz')\n",
    "100*(np.argmin(data_loss['loss'])+1),np.min(data_loss['loss'])"
   ]
  },
  {
   "cell_type": "code",
   "execution_count": 146,
   "metadata": {
    "collapsed": false
   },
   "outputs": [
    {
     "data": {
      "text/plain": [
       "(61000, 0.31945542)"
      ]
     },
     "execution_count": 146,
     "metadata": {},
     "output_type": "execute_result"
    }
   ],
   "source": [
    "data_loss = np.load('3_w_loss.npz')\n",
    "100*(np.argmin(data_loss['loss'])+1),np.min(data_loss['loss'])"
   ]
  },
  {
   "cell_type": "code",
   "execution_count": 131,
   "metadata": {
    "collapsed": false
   },
   "outputs": [
    {
     "data": {
      "text/plain": [
       "(22800, 0.30698147)"
      ]
     },
     "execution_count": 131,
     "metadata": {},
     "output_type": "execute_result"
    }
   ],
   "source": [
    "data_loss = np.load('4_w_loss.npz')\n",
    "100*(np.argmin(data_loss['loss'])+1),np.min(data_loss['loss'])"
   ]
  },
  {
   "cell_type": "code",
   "execution_count": 129,
   "metadata": {
    "collapsed": false
   },
   "outputs": [
    {
     "data": {
      "text/plain": [
       "(23400, 0.31236574)"
      ]
     },
     "execution_count": 129,
     "metadata": {},
     "output_type": "execute_result"
    }
   ],
   "source": [
    "data_loss = np.load('5_w_loss.npz')\n",
    "100*(np.argmin(data_loss['loss'])+1),np.min(data_loss['loss'])"
   ]
  },
  {
   "cell_type": "code",
   "execution_count": 127,
   "metadata": {
    "collapsed": false
   },
   "outputs": [
    {
     "data": {
      "text/plain": [
       "(23600, 0.30886912)"
      ]
     },
     "execution_count": 127,
     "metadata": {},
     "output_type": "execute_result"
    }
   ],
   "source": [
    "data_loss = np.load('3,4,5_w_loss.npz')\n",
    "100*(np.argmin(data_loss['loss'])+1),np.min(data_loss['loss'])"
   ]
  },
  {
   "cell_type": "code",
   "execution_count": 38,
   "metadata": {
    "collapsed": false
   },
   "outputs": [
    {
     "data": {
      "text/plain": [
       "(10900, 0.31758925)"
      ]
     },
     "execution_count": 38,
     "metadata": {},
     "output_type": "execute_result"
    }
   ],
   "source": [
    "data_loss = np.load('3cnn2_w_loss.npz')\n",
    "100*(np.argmin(data_loss['loss'])+1),np.min(data_loss['loss'])"
   ]
  },
  {
   "cell_type": "code",
   "execution_count": 20,
   "metadata": {
    "collapsed": false
   },
   "outputs": [
    {
     "data": {
      "text/plain": [
       "(3300, 0.71348268)"
      ]
     },
     "execution_count": 20,
     "metadata": {},
     "output_type": "execute_result"
    }
   ],
   "source": [
    "data_loss = np.load('3cnn3_w_loss.npz')\n",
    "100*(np.argmin(data_loss['loss'])+1),np.min(data_loss['loss'])"
   ]
  },
  {
   "cell_type": "code",
   "execution_count": 76,
   "metadata": {
    "collapsed": false
   },
   "outputs": [
    {
     "data": {
      "text/plain": [
       "(100, 0.69054949)"
      ]
     },
     "execution_count": 76,
     "metadata": {},
     "output_type": "execute_result"
    }
   ],
   "source": [
    "data_loss = np.load('3cnn_w2v_bn_loss.npz')\n",
    "100*(np.argmin(data_loss['loss'])+1),np.min(data_loss['loss'])"
   ]
  },
  {
   "cell_type": "code",
   "execution_count": 123,
   "metadata": {
    "collapsed": false
   },
   "outputs": [
    {
     "data": {
      "text/plain": [
       "(16900, 0.31871113)"
      ]
     },
     "execution_count": 123,
     "metadata": {},
     "output_type": "execute_result"
    }
   ],
   "source": [
    "data_loss = np.load('3cnn_v_loss.npz')\n",
    "100*(np.argmin(data_loss['loss'])+1),np.min(data_loss['loss'])"
   ]
  },
  {
   "cell_type": "code",
   "execution_count": 157,
   "metadata": {
    "collapsed": false
   },
   "outputs": [
    {
     "data": {
      "text/plain": [
       "(10600, 0.30476409)"
      ]
     },
     "execution_count": 157,
     "metadata": {},
     "output_type": "execute_result"
    }
   ],
   "source": [
    "data_loss = np.load('3cnn_w2v_loss.npz')\n",
    "100*(np.argmin(data_loss['loss'])+1),np.min(data_loss['loss'])"
   ]
  },
  {
   "cell_type": "code",
   "execution_count": 103,
   "metadata": {
    "collapsed": true
   },
   "outputs": [],
   "source": [
    "np.savez('cnn_2_f_3_3_w2v_bn_3_loss.npz',loss=data_loss['loss'])"
   ]
  },
  {
   "cell_type": "code",
   "execution_count": 168,
   "metadata": {
    "collapsed": false
   },
   "outputs": [
    {
     "data": {
      "text/plain": [
       "(18100, 0.3131299)"
      ]
     },
     "execution_count": 168,
     "metadata": {},
     "output_type": "execute_result"
    }
   ],
   "source": [
    "data_loss = np.load('cnn_2_f_3_3_w2v_bn_2_loss.npz')\n",
    "100*(np.argmin(data_loss['loss'])+1),np.min(data_loss['loss'])"
   ]
  },
  {
   "cell_type": "code",
   "execution_count": 174,
   "metadata": {
    "collapsed": false
   },
   "outputs": [
    {
     "data": {
      "text/plain": [
       "(16900, 0.31164518)"
      ]
     },
     "execution_count": 174,
     "metadata": {},
     "output_type": "execute_result"
    }
   ],
   "source": [
    "data_loss= np.load('cnn_2_f_3_3_w2v_bn_3_loss.npz')\n",
    "100*(np.argmin(data_loss['loss'])+1),np.min(data_loss['loss'])"
   ]
  },
  {
   "cell_type": "code",
   "execution_count": 182,
   "metadata": {
    "collapsed": false
   },
   "outputs": [
    {
     "data": {
      "text/plain": [
       "(18100, 0.31718382)"
      ]
     },
     "execution_count": 182,
     "metadata": {},
     "output_type": "execute_result"
    }
   ],
   "source": [
    "data_loss = np.load('cnn_f_3_loss.npz')\n",
    "100*(np.argmin(data_loss['loss'])+1),np.min(data_loss['loss'])"
   ]
  },
  {
   "cell_type": "code",
   "execution_count": 184,
   "metadata": {
    "collapsed": false
   },
   "outputs": [
    {
     "data": {
      "image/png": "[encoded data removed]",
      "text/plain": [
       "<matplotlib.figure.Figure at 0x197262af048>"
      ]
     },
     "metadata": {},
     "output_type": "display_data"
    },
    {
     "name": "stdout",
     "output_type": "stream",
     "text": [
      "average : 0.34341\n"
     ]
    }
   ],
   "source": [
    "%matplotlib inline\n",
    "\n",
    "import matplotlib.pyplot as plt\n",
    "import matplotlib\n",
    "\n",
    "x=range(len(data_loss['loss'][:200]))\n",
    "\n",
    "y=data_loss['loss'][:200]\n",
    "\n",
    "plt.title('CNN')\n",
    "plt.plot(x,y)\n",
    "plt.xlabel('epoch')\n",
    "plt.ylabel('loss')\n",
    "plt.show()\n",
    "print ('average : '+str(data_loss['loss'][50]))"
   ]
  },
  {
   "cell_type": "code",
   "execution_count": null,
   "metadata": {
    "collapsed": true
   },
   "outputs": [],
   "source": []
  }
 ],
 "metadata": {
  "anaconda-cloud": {},
  "kernelspec": {
   "display_name": "Python [default]",
   "language": "python",
   "name": "python3"
  },
  "language_info": {
   "codemirror_mode": {
    "name": "ipython",
    "version": 3
   },
   "file_extension": ".py",
   "mimetype": "text/x-python",
   "name": "python",
   "nbconvert_exporter": "python",
   "pygments_lexer": "ipython3",
   "version": "3.5.2"
  }
 },
 "nbformat": 4,
 "nbformat_minor": 1
}
